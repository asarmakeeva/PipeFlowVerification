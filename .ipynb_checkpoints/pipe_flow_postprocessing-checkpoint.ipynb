{
 "cells": [
  {
   "cell_type": "code",
   "execution_count": 1,
   "id": "4081c7a5",
   "metadata": {},
   "outputs": [],
   "source": [
    "import pyvista\n",
    "import pandas as pd\n",
    "import numpy as np\n",
    "import matplotlib.pyplot as plt\n",
    "%matplotlib inline"
   ]
  },
  {
   "cell_type": "markdown",
   "id": "e5718a0c",
   "metadata": {},
   "source": [
    "## Get data from OF"
   ]
  },
  {
   "cell_type": "code",
   "execution_count": 2,
   "id": "8d458422",
   "metadata": {},
   "outputs": [],
   "source": [
    "points = np.arange(0.01, 0.2, 0.01)\n",
    "\n",
    "pyVista_res_l2 = pd.DataFrame()\n",
    "pyVista_res_l2['point'] = points\n",
    "pyVista_res_l2.set_index('point', inplace = True)\n",
    "\n",
    "pyVista_sum_l2 = pd.DataFrame()\n",
    "pyVista_sum_l2['point'] = points\n",
    "pyVista_sum_l2.set_index('point', inplace = True)"
   ]
  },
  {
   "cell_type": "code",
   "execution_count": 3,
   "id": "315ee384",
   "metadata": {},
   "outputs": [],
   "source": [
    "def get_sample_data(path):\n",
    "    filename = path + '.vtk'\n",
    "    mesh = pyvista.read(filename)\n",
    "    mesh.sample_over_line((0, -0.00227, 0.09),(0, 0.00227, 0.09))\n",
    "    sample = [] \n",
    "    for i in points:\n",
    "         sample.append(mesh.sample_over_line((0, -0.00227, i),(0, 0.00227, i))['U'].max())#resolution=15\n",
    "    sums=[] \n",
    "    for i in points:\n",
    "         sums.append(mesh.sample_over_line((0, -0.00227, i),(0, 0.00227, i))['U'].sum())#resolution=15\n",
    "    return sample, sums "
   ]
  },
  {
   "cell_type": "code",
   "execution_count": null,
   "id": "1c36dc61",
   "metadata": {},
   "outputs": [],
   "source": [
    "\n",
    "files = ['57k_cells','194k_cells','460k_cells']\n",
    "for i in files:\n",
    "    pyVista_res_l2[i], pyVista_sum_l2[i]  = get_sample_data('data/'+'channel_'+i)\n",
    "    "
   ]
  },
  {
   "cell_type": "code",
   "execution_count": null,
   "id": "81ab311d",
   "metadata": {},
   "outputs": [],
   "source": [
    "pyVista_res_l2"
   ]
  },
  {
   "cell_type": "markdown",
   "id": "0287867f",
   "metadata": {},
   "source": [
    "## Analytical solution"
   ]
  },
  {
   "cell_type": "code",
   "execution_count": 6,
   "id": "600b9ac6",
   "metadata": {},
   "outputs": [
    {
     "name": "stdout",
     "output_type": "stream",
     "text": [
      "160.0043243243243\n"
     ]
    }
   ],
   "source": [
    "#radius\n",
    "R = 0.00227 \n",
    "#density\n",
    "rho = 1.0\n",
    "v = 0.5216\n",
    "#Reynolds number\n",
    "Re = rho*v*R*2/(1.48e-05)\n",
    "print(Re)"
   ]
  },
  {
   "cell_type": "code",
   "execution_count": 7,
   "id": "57dea3d3",
   "metadata": {},
   "outputs": [
    {
     "data": {
      "text/plain": [
       "1.1860429347152845"
      ]
     },
     "execution_count": 7,
     "metadata": {},
     "output_type": "execute_result"
    }
   ],
   "source": [
    "p = 0.2372085869430569\n",
    "length = 0.2\n",
    "\n",
    "pressureGrad0 = p/length\n",
    "pressureGrad0"
   ]
  },
  {
   "cell_type": "code",
   "execution_count": 9,
   "id": "863e8cc1",
   "metadata": {},
   "outputs": [
    {
     "name": "stdout",
     "output_type": "stream",
     "text": [
      "f = 0.4, Pressure Gradient = 11.98, dpdx = 11.49\n"
     ]
    }
   ],
   "source": [
    "#friction factor\n",
    "f = 64/Re\n",
    "dP = f*length*1*v**2/(2*R*2)\n",
    "pressureGrad = dP/length\n",
    "dPdx = 1.48e-05*4/(R**2)\n",
    "print('f = {:2.4}, Pressure Gradient = {:2.4}, dpdx = {:2.4}'.format(f, pressureGrad, dPdx))"
   ]
  },
  {
   "cell_type": "code",
   "execution_count": 16,
   "id": "9830993b",
   "metadata": {},
   "outputs": [
    {
     "data": {
      "image/png": "[encoded data removed]",
      "text/plain": [
       "<Figure size 432x288 with 1 Axes>"
      ]
     },
     "metadata": {
      "needs_background": "light"
     },
     "output_type": "display_data"
    }
   ],
   "source": [
    "r1 = np.linspace(-0.00227,0.00227,1000)\n",
    "r = np.sqrt(r1**2)  # array how radius changing\n",
    "analytical_solution = (R**2-r**2)*(1/(4*1.48e-05))*pressureGrad \n",
    "\n",
    "plt.plot(res);"
   ]
  },
  {
   "cell_type": "code",
   "execution_count": 17,
   "id": "2ba021eb",
   "metadata": {},
   "outputs": [
    {
     "data": {
      "text/plain": [
       "1.043198954710466"
      ]
     },
     "execution_count": 17,
     "metadata": {},
     "output_type": "execute_result"
    }
   ],
   "source": [
    "res.max()"
   ]
  },
  {
   "cell_type": "code",
   "execution_count": null,
   "id": "04ad2446",
   "metadata": {},
   "outputs": [],
   "source": []
  }
 ],
 "metadata": {
  "kernelspec": {
   "display_name": "Python 3",
   "language": "python",
   "name": "python3"
  },
  "language_info": {
   "codemirror_mode": {
    "name": "ipython",
    "version": 3
   },
   "file_extension": ".py",
   "mimetype": "text/x-python",
   "name": "python",
   "nbconvert_exporter": "python",
   "pygments_lexer": "ipython3",
   "version": "3.9.7"
  }
 },
 "nbformat": 4,
 "nbformat_minor": 5
}
